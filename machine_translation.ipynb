{
 "cells": [
  {
   "cell_type": "markdown",
   "metadata": {
    "collapsed": true
   },
   "source": [
    "# Artificial Intelligence Nanodegree\n",
    "## Machine Translation Project\n",
    "In this notebook, sections that end with **'(IMPLEMENTATION)'** in the header indicate that the following blocks of code will require additional functionality which you must provide. Please be sure to read the instructions carefully!\n",
    "\n",
    "## Introduction\n",
    "In this notebook, you will build a deep neural network that functions as part of an end-to-end machine translation pipeline. Your completed pipeline will accept English text as input and return the French translation.\n",
    "\n",
    "- **Preprocess** - You'll convert text to sequence of integers.\n",
    "- **Models** Create models which accepts a sequence of integers as input and returns a probability distribution over possible translations. After learning about the basic types of neural networks that are often used for machine translation, you will engage in your own investigations, to design your own model!\n",
    "- **Prediction** Run the model on English text.\n",
    "\n",
    "## Dataset\n",
    "We begin by investigating the dataset that will be used to train and evaluate your pipeline.  The most common datasets used for machine translation are from [WMT](http://www.statmt.org/).  However, that will take a long time to train a neural network on.  We'll be using a dataset we created for this project that contains a small vocabulary.  You'll be able to train your model in a reasonable time with this dataset.\n",
    "### Load Data\n",
    "The data is located in `data/small_vocab_en` and `data/small_vocab_fr`. The `small_vocab_en` file contains English sentences with their French translations in the `small_vocab_fr` file. Load the English and French data from these files from running the cell below."
   ]
  },
  {
   "cell_type": "code",
   "execution_count": 1,
   "metadata": {},
   "outputs": [
    {
     "name": "stdout",
     "output_type": "stream",
     "text": [
      "Dataset Loaded\n"
     ]
    }
   ],
   "source": [
    "import helper\n",
    "\n",
    "\n",
    "# Load English data\n",
    "english_sentences = helper.load_data('data/small_vocab_en')\n",
    "# Load French data\n",
    "french_sentences = helper.load_data('data/small_vocab_fr')\n",
    "\n",
    "print('Dataset Loaded')"
   ]
  },
  {
   "cell_type": "markdown",
   "metadata": {},
   "source": [
    "### Files\n",
    "Each line in `small_vocab_en` contains an English sentence with the respective translation in each line of `small_vocab_fr`.  View the first two lines from each file."
   ]
  },
  {
   "cell_type": "code",
   "execution_count": 2,
   "metadata": {},
   "outputs": [
    {
     "name": "stdout",
     "output_type": "stream",
     "text": [
      "small_vocab_en Line 1:  new jersey is sometimes quiet during autumn , and it is snowy in april .\n",
      "small_vocab_fr Line 1:  new jersey est parfois calme pendant l' automne , et il est neigeux en avril .\n",
      "small_vocab_en Line 2:  the united states is usually chilly during july , and it is usually freezing in november .\n",
      "small_vocab_fr Line 2:  les états-unis est généralement froid en juillet , et il gèle habituellement en novembre .\n"
     ]
    }
   ],
   "source": [
    "for sample_i in range(2):\n",
    "    print('small_vocab_en Line {}:  {}'.format(sample_i + 1, english_sentences[sample_i]))\n",
    "    print('small_vocab_fr Line {}:  {}'.format(sample_i + 1, french_sentences[sample_i]))"
   ]
  },
  {
   "cell_type": "markdown",
   "metadata": {},
   "source": [
    "From looking at the sentences, you can see they have been preprocessed already.  The puncuations have been delimited using spaces. All the text have been converted to lowercase.  This should save you some time, but the text requires more preprocessing.\n",
    "### Vocabulary\n",
    "The complexity of the problem is determined by the complexity of the vocabulary.  A more complex vocabulary is a more complex problem.  Let's look at the complexity of the dataset we'll be working with."
   ]
  },
  {
   "cell_type": "code",
   "execution_count": 3,
   "metadata": {},
   "outputs": [
    {
     "name": "stdout",
     "output_type": "stream",
     "text": [
      "1823250 English words.\n",
      "227 unique English words.\n",
      "10 Most common words in the English dataset:\n",
      "\"is\" \",\" \".\" \"in\" \"it\" \"during\" \"the\" \"but\" \"and\" \"sometimes\"\n",
      "\n",
      "1961295 French words.\n",
      "355 unique French words.\n",
      "10 Most common words in the French dataset:\n",
      "\"est\" \".\" \",\" \"en\" \"il\" \"les\" \"mais\" \"et\" \"la\" \"parfois\"\n"
     ]
    }
   ],
   "source": [
    "import collections\n",
    "\n",
    "\n",
    "english_words_counter = collections.Counter([word for sentence in english_sentences for word in sentence.split()])\n",
    "french_words_counter = collections.Counter([word for sentence in french_sentences for word in sentence.split()])\n",
    "\n",
    "print('{} English words.'.format(len([word for sentence in english_sentences for word in sentence.split()])))\n",
    "print('{} unique English words.'.format(len(english_words_counter)))\n",
    "print('10 Most common words in the English dataset:')\n",
    "print('\"' + '\" \"'.join(list(zip(*english_words_counter.most_common(10)))[0]) + '\"')\n",
    "print()\n",
    "print('{} French words.'.format(len([word for sentence in french_sentences for word in sentence.split()])))\n",
    "print('{} unique French words.'.format(len(french_words_counter)))\n",
    "print('10 Most common words in the French dataset:')\n",
    "print('\"' + '\" \"'.join(list(zip(*french_words_counter.most_common(10)))[0]) + '\"')"
   ]
  },
  {
   "cell_type": "markdown",
   "metadata": {},
   "source": [
    "For comparison, _Alice's Adventures in Wonderland_ contains 2,766 unique words of a total of 15,500 words.\n",
    "## Preprocess\n",
    "For this project, you won't use text data as input to your model. Instead, you'll convert the text into sequences of integers using the following preprocess methods:\n",
    "1. Tokenize the words into ids\n",
    "2. Add padding to make all the sequences the same length.\n",
    "\n",
    "Time to start preprocessing the data...\n",
    "### Tokenize (IMPLEMENTATION)\n",
    "For a neural network to predict on text data, it first has to be turned into data it can understand. Text data like \"dog\" is a sequence of ASCII character encodings.  Since a neural network is a series of multiplication and addition operations, the input data needs to be number(s).\n",
    "\n",
    "We can turn each character into a number or each word into a number.  These are called character and word ids, respectively.  Character ids are used for character level models that generate text predictions for each character.  A word level model uses word ids that generate text predictions for each word.  Word level models tend to learn better, since they are lower in complexity, so we'll use those.\n",
    "\n",
    "Turn each sentence into a sequence of words ids using Keras's [`Tokenizer`](https://keras.io/preprocessing/text/#tokenizer) function. Use this function to tokenize `english_sentences` and `french_sentences` in the cell below.\n",
    "\n",
    "Running the cell will run `tokenize` on sample data and show output for debugging."
   ]
  },
  {
   "cell_type": "code",
   "execution_count": 4,
   "metadata": {},
   "outputs": [
    {
     "name": "stderr",
     "output_type": "stream",
     "text": [
      "Using TensorFlow backend.\n"
     ]
    }
   ],
   "source": [
    "from keras.preprocessing.text import Tokenizer\n",
    "x = Tokenizer(english_sentences[0:5])"
   ]
  },
  {
   "cell_type": "code",
   "execution_count": 5,
   "metadata": {},
   "outputs": [
    {
     "name": "stdout",
     "output_type": "stream",
     "text": [
      "{'the': 1, 'quick': 2, 'a': 3, 'brown': 4, 'fox': 5, 'jumps': 6, 'over': 7, 'lazy': 8, 'dog': 9, 'by': 10, 'jove': 11, 'my': 12, 'study': 13, 'of': 14, 'lexicography': 15, 'won': 16, 'prize': 17, 'this': 18, 'is': 19, 'short': 20, 'sentence': 21}\n",
      "\n",
      "Sequence 1 in x\n",
      "  Input:  The quick brown fox jumps over the lazy dog .\n",
      "  Output: [1, 2, 4, 5, 6, 7, 1, 8, 9]\n",
      "Sequence 2 in x\n",
      "  Input:  By Jove , my quick study of lexicography won a prize .\n",
      "  Output: [10, 11, 12, 2, 13, 14, 15, 16, 3, 17]\n",
      "Sequence 3 in x\n",
      "  Input:  This is a short sentence .\n",
      "  Output: [18, 19, 3, 20, 21]\n"
     ]
    }
   ],
   "source": [
    "import project_tests as tests\n",
    "from keras.preprocessing.text import Tokenizer\n",
    "\n",
    "def tokenize(x):\n",
    "    \"\"\"\n",
    "    Tokenize x\n",
    "    :param x: List of sentences/strings to be tokenized\n",
    "    :return: Tuple of (tokenized x data, tokenizer used to tokenize x)\n",
    "    \"\"\"\n",
    "    # create Tokenizer object and fit sentences (x)\n",
    "    tokenizer = Tokenizer()\n",
    "    tokenizer.fit_on_texts(x)\n",
    "    \n",
    "    # get token indicies for sentences\n",
    "    tokenized_data = tokenizer.texts_to_sequences(x)\n",
    "    return tokenized_data, tokenizer\n",
    "    \n",
    "tests.test_tokenize(tokenize)\n",
    "\n",
    "# Tokenize Example output\n",
    "text_sentences = [\n",
    "    'The quick brown fox jumps over the lazy dog .',\n",
    "    'By Jove , my quick study of lexicography won a prize .',\n",
    "    'This is a short sentence .']\n",
    "text_tokenized, text_tokenizer = tokenize(text_sentences)\n",
    "print(text_tokenizer.word_index)\n",
    "print()\n",
    "for sample_i, (sent, token_sent) in enumerate(zip(text_sentences, text_tokenized)):\n",
    "    print('Sequence {} in x'.format(sample_i + 1))\n",
    "    print('  Input:  {}'.format(sent))\n",
    "    print('  Output: {}'.format(token_sent))\n"
   ]
  },
  {
   "cell_type": "markdown",
   "metadata": {},
   "source": [
    "### Padding (IMPLEMENTATION)\n",
    "When batching the sequence of word ids together, each sequence needs to be the same length.  Since sentences are dynamic in length, we can add padding to the end of the sequences to make them the same length.\n",
    "\n",
    "Make sure all the English sequences have the same length and all the French sequences have the same length by adding padding to the **end** of each sequence using Keras's [`pad_sequences`](https://keras.io/preprocessing/sequence/#pad_sequences) function."
   ]
  },
  {
   "cell_type": "code",
   "execution_count": 6,
   "metadata": {},
   "outputs": [
    {
     "name": "stdout",
     "output_type": "stream",
     "text": [
      "Sequence 1 in x\n",
      "  Input:  [1 2 4 5 6 7 1 8 9]\n",
      "  Output: [1 2 4 5 6 7 1 8 9 0]\n",
      "Sequence 2 in x\n",
      "  Input:  [10 11 12  2 13 14 15 16  3 17]\n",
      "  Output: [10 11 12  2 13 14 15 16  3 17]\n",
      "Sequence 3 in x\n",
      "  Input:  [18 19  3 20 21]\n",
      "  Output: [18 19  3 20 21  0  0  0  0  0]\n"
     ]
    }
   ],
   "source": [
    "import numpy as np\n",
    "from keras.preprocessing.sequence import pad_sequences\n",
    "\n",
    "def pad(x, length=None):\n",
    "    \"\"\"\n",
    "    Pad x\n",
    "    :param x: List of sequences.\n",
    "    :param length: Length to pad the sequence to.  If None, use length of longest sequence in x.\n",
    "    :return: Padded numpy array of sequences\n",
    "    \"\"\"\n",
    "    # pad rows at end of sequence\n",
    "    padded = pad_sequences(x, maxlen=length, padding='post')\n",
    "    return padded\n",
    "\n",
    "tests.test_pad(pad)\n",
    "\n",
    "# Pad Tokenized output\n",
    "test_pad = pad(text_tokenized)\n",
    "for sample_i, (token_sent, pad_sent) in enumerate(zip(text_tokenized, test_pad)):\n",
    "    print('Sequence {} in x'.format(sample_i + 1))\n",
    "    print('  Input:  {}'.format(np.array(token_sent)))\n",
    "    print('  Output: {}'.format(pad_sent))"
   ]
  },
  {
   "cell_type": "markdown",
   "metadata": {},
   "source": [
    "### Preprocess Pipeline\n",
    "Your focus for this project is to build neural network architecture, so we won't ask you to create a preprocess pipeline.  Instead, we've provided you with the implementation of the `preprocess` function."
   ]
  },
  {
   "cell_type": "code",
   "execution_count": 7,
   "metadata": {},
   "outputs": [
    {
     "name": "stdout",
     "output_type": "stream",
     "text": [
      "Data Preprocessed\n"
     ]
    }
   ],
   "source": [
    "def preprocess(x, y):\n",
    "    \"\"\"\n",
    "    Preprocess x and y\n",
    "    :param x: Feature List of sentences\n",
    "    :param y: Label List of sentences\n",
    "    :return: Tuple of (Preprocessed x, Preprocessed y, x tokenizer, y tokenizer)\n",
    "    \"\"\"\n",
    "    preprocess_x, x_tk = tokenize(x)\n",
    "    preprocess_y, y_tk = tokenize(y)\n",
    "\n",
    "    preprocess_x = pad(preprocess_x)\n",
    "    preprocess_y = pad(preprocess_y)\n",
    "\n",
    "    # Keras's sparse_categorical_crossentropy function requires the labels to be in 3 dimensions\n",
    "    preprocess_y = preprocess_y.reshape(*preprocess_y.shape, 1)\n",
    "\n",
    "    return preprocess_x, preprocess_y, x_tk, y_tk\n",
    "\n",
    "preproc_english_sentences, preproc_french_sentences, english_tokenizer, french_tokenizer =\\\n",
    "    preprocess(english_sentences, french_sentences)\n",
    "\n",
    "print('Data Preprocessed')"
   ]
  },
  {
   "cell_type": "markdown",
   "metadata": {},
   "source": [
    "## Models\n",
    "In this section, you will experiment with various neural network architectures.\n",
    "You will begin by training four relatively simple architectures.\n",
    "- Model 1 is a simple RNN\n",
    "- Model 2 is a RNN with Embedding\n",
    "- Model 3 is a Bidirectional RNN\n",
    "- Model 4 is an optional Encoder-Decoder RNN\n",
    "\n",
    "After experimenting with the four simple architectures, you will construct a deeper architecture that is designed to outperform all four models.\n",
    "### Ids Back to Text\n",
    "The neural network will be translating the input to words ids, which isn't the final form we want.  We want the French translation.  The function `logits_to_text` will bridge the gab between the logits from the neural network to the French translation.  You'll be using this function to better understand the output of the neural network."
   ]
  },
  {
   "cell_type": "code",
   "execution_count": 8,
   "metadata": {},
   "outputs": [
    {
     "name": "stdout",
     "output_type": "stream",
     "text": [
      "`logits_to_text` function loaded.\n"
     ]
    }
   ],
   "source": [
    "def logits_to_text(logits, tokenizer):\n",
    "    \"\"\"\n",
    "    Turn logits from a neural network into text using the tokenizer\n",
    "    :param logits: Logits from a neural network\n",
    "    :param tokenizer: Keras Tokenizer fit on the labels\n",
    "    :return: String that represents the text of the logits\n",
    "    \"\"\"\n",
    "    index_to_words = {id: word for word, id in tokenizer.word_index.items()}\n",
    "    index_to_words[0] = '<PAD>'\n",
    "\n",
    "    return ' '.join([index_to_words[prediction] for prediction in np.argmax(logits, 1)])\n",
    "\n",
    "print('`logits_to_text` function loaded.')"
   ]
  },
  {
   "cell_type": "code",
   "execution_count": 9,
   "metadata": {
    "collapsed": true
   },
   "outputs": [],
   "source": [
    "# HYPERPARAMETERS\n",
    "# chosen based on guidance from Hyperparameters lecture and trial & error\n",
    "learning_rate = 0.001\n",
    "dropout = 0.3\n",
    "embedding_dim = 1024\n",
    "rnn_dim = 256 \n",
    "dense_dim = 256\n",
    "batch_size = 1024\n",
    "epochs = 10\n",
    "val_split = 0.2"
   ]
  },
  {
   "cell_type": "markdown",
   "metadata": {},
   "source": [
    "### Model 1: RNN (IMPLEMENTATION)\n",
    "![RNN](images/rnn.png)\n",
    "A basic RNN model is a good baseline for sequence data.  In this model, you'll build a RNN that translates English to French."
   ]
  },
  {
   "cell_type": "code",
   "execution_count": 10,
   "metadata": {
    "scrolled": false
   },
   "outputs": [
    {
     "name": "stdout",
     "output_type": "stream",
     "text": [
      "Train on 110288 samples, validate on 27573 samples\n",
      "Epoch 1/10\n",
      "110288/110288 [==============================] - 18s - loss: 2.5072 - acc: 0.4757 - val_loss: nan - val_acc: 0.5688\n",
      "Epoch 2/10\n",
      "110288/110288 [==============================] - 15s - loss: 1.6273 - acc: 0.5760 - val_loss: nan - val_acc: 0.6124\n",
      "Epoch 3/10\n",
      "110288/110288 [==============================] - 15s - loss: 1.4345 - acc: 0.6037 - val_loss: nan - val_acc: 0.6356\n",
      "Epoch 4/10\n",
      "110288/110288 [==============================] - 15s - loss: 1.3356 - acc: 0.6204 - val_loss: nan - val_acc: 0.6462\n",
      "Epoch 5/10\n",
      "110288/110288 [==============================] - 15s - loss: 1.2724 - acc: 0.6310 - val_loss: nan - val_acc: 0.6543\n",
      "Epoch 6/10\n",
      "110288/110288 [==============================] - 15s - loss: 1.2252 - acc: 0.6396 - val_loss: nan - val_acc: 0.6620\n",
      "Epoch 7/10\n",
      "110288/110288 [==============================] - 15s - loss: 1.1893 - acc: 0.6454 - val_loss: nan - val_acc: 0.6621\n",
      "Epoch 8/10\n",
      "110288/110288 [==============================] - 15s - loss: 1.1604 - acc: 0.6506 - val_loss: nan - val_acc: 0.6697\n",
      "Epoch 9/10\n",
      "110288/110288 [==============================] - 15s - loss: 1.1367 - acc: 0.6544 - val_loss: nan - val_acc: 0.6743\n",
      "Epoch 10/10\n",
      "110288/110288 [==============================] - 15s - loss: 1.1169 - acc: 0.6572 - val_loss: nan - val_acc: 0.6732\n",
      "new jersey est parfois calme en l' et il est il en en en <PAD> <PAD> <PAD> <PAD> <PAD> <PAD> <PAD>\n"
     ]
    }
   ],
   "source": [
    "from keras.layers import GRU, Input, Dense, TimeDistributed, Dropout, RepeatVector, LSTM\n",
    "from keras.models import Model, Sequential\n",
    "from keras.layers import Activation\n",
    "from keras.optimizers import Adam\n",
    "from keras.losses import sparse_categorical_crossentropy\n",
    "\n",
    "def simple_model(input_shape, output_sequence_length, english_vocab_size, french_vocab_size):\n",
    "    \"\"\"\n",
    "    Build and train a basic RNN on x and y\n",
    "    :param input_shape: Tuple of input shape\n",
    "    :param output_sequence_length: Length of output sequence\n",
    "    :param english_vocab_size: Number of unique English words in the dataset\n",
    "    :param french_vocab_size: Number of unique French words in the dataset\n",
    "    :return: Keras model built, but not trained\n",
    "    \"\"\"\n",
    "    # Build a simple RNN that takes in the input string in the source language\n",
    "    # and creates an logits of the output string in the destination language\n",
    "    # Adding a dropout and dense layer btwn the RNN and TimeDistibuted Dense\n",
    "    # layer improves the accuracy\n",
    "    model = Sequential()\n",
    "    model.add(LSTM(rnn_dim, input_shape=input_shape[1:], return_sequences=True))\n",
    "    model.add(Dropout(dropout))\n",
    "    model.add(Dense(dense_dim))\n",
    "    model.add(TimeDistributed(Dense(french_vocab_size)))\n",
    "    model.add(Activation('softmax'))\n",
    "    model.compile(\n",
    "        loss=sparse_categorical_crossentropy,\n",
    "        optimizer=Adam(learning_rate),\n",
    "        metrics=['accuracy'])\n",
    "    return model\n",
    "\n",
    "# run assertion tests\n",
    "tests.test_simple_model(simple_model)\n",
    "\n",
    "# Reshaping the input to work with a basic RNN\n",
    "tmp_x = pad(preproc_english_sentences, preproc_french_sentences.shape[1])\n",
    "tmp_x = tmp_x.reshape((-1, preproc_french_sentences.shape[-2], 1))\n",
    "\n",
    "# Train the neural network\n",
    "simple_rnn_model = simple_model(\n",
    "    tmp_x.shape,\n",
    "    preproc_french_sentences.shape[1],\n",
    "    len(english_tokenizer.word_index),\n",
    "    len(french_tokenizer.word_index))\n",
    "simple_rnn_model.fit(\n",
    "    tmp_x, \n",
    "    preproc_french_sentences, \n",
    "    batch_size=batch_size, \n",
    "    epochs=epochs, \n",
    "    validation_split=val_split)\n",
    "\n",
    "# Print prediction(s)\n",
    "print(logits_to_text(simple_rnn_model.predict(tmp_x[:1])[0], french_tokenizer))"
   ]
  },
  {
   "cell_type": "markdown",
   "metadata": {},
   "source": [
    "### Model 2: Embedding (IMPLEMENTATION)\n",
    "![RNN](images/embedding.png)\n",
    "You've turned the words into ids, but there's a better representation of a word.  This is called word embeddings.  An embedding is a vector representation of the word that is close to similar words in n-dimensional space, where the n represents the size of the embedding vectors.\n",
    "\n",
    "In this model, you'll create a RNN model using embedding."
   ]
  },
  {
   "cell_type": "code",
   "execution_count": 11,
   "metadata": {},
   "outputs": [
    {
     "name": "stdout",
     "output_type": "stream",
     "text": [
      "Train on 110288 samples, validate on 27573 samples\n",
      "Epoch 1/10\n",
      "110288/110288 [==============================] - 24s - loss: 2.5292 - acc: 0.5009 - val_loss: nan - val_acc: 0.6387\n",
      "Epoch 2/10\n",
      "110288/110288 [==============================] - 24s - loss: 0.9762 - acc: 0.7406 - val_loss: nan - val_acc: 0.8169\n",
      "Epoch 3/10\n",
      "110288/110288 [==============================] - 24s - loss: 0.5479 - acc: 0.8312 - val_loss: nan - val_acc: 0.8642\n",
      "Epoch 4/10\n",
      "110288/110288 [==============================] - 24s - loss: 0.4195 - acc: 0.8656 - val_loss: nan - val_acc: 0.8877\n",
      "Epoch 5/10\n",
      "110288/110288 [==============================] - 24s - loss: 0.3499 - acc: 0.8864 - val_loss: nan - val_acc: 0.9016\n",
      "Epoch 6/10\n",
      "110288/110288 [==============================] - 24s - loss: 0.3056 - acc: 0.9002 - val_loss: nan - val_acc: 0.9104\n",
      "Epoch 7/10\n",
      "110288/110288 [==============================] - 24s - loss: 0.2754 - acc: 0.9090 - val_loss: nan - val_acc: 0.9162\n",
      "Epoch 8/10\n",
      "110288/110288 [==============================] - 24s - loss: 0.2560 - acc: 0.9147 - val_loss: nan - val_acc: 0.9213\n",
      "Epoch 9/10\n",
      "110288/110288 [==============================] - 24s - loss: 0.2378 - acc: 0.9201 - val_loss: nan - val_acc: 0.9257\n",
      "Epoch 10/10\n",
      "110288/110288 [==============================] - 24s - loss: 0.2257 - acc: 0.9236 - val_loss: nan - val_acc: 0.9270\n",
      "new jersey est parfois calme en l' automne et il est neigeux en avril <PAD> <PAD> <PAD> <PAD> <PAD> <PAD> <PAD>\n"
     ]
    }
   ],
   "source": [
    "from keras.layers.embeddings import Embedding\n",
    "\n",
    "def embed_model(input_shape, output_sequence_length, english_vocab_size, french_vocab_size):\n",
    "    \"\"\"\n",
    "    Build and train a RNN model using word embedding on x and y\n",
    "    :param input_shape: Tuple of input shape\n",
    "    :param output_sequence_length: Length of output sequence\n",
    "    :param english_vocab_size: Number of unique English words in the dataset\n",
    "    :param french_vocab_size: Number of unique French words in the dataset\n",
    "    :return: Keras model built, but not trained\n",
    "    \"\"\"\n",
    "    # Build a simple RNN that takes in the input string in the source language,\n",
    "    # convert it using embeddings, and creates an logits of the output string in \n",
    "    # the destination language\n",
    "    # Adding a dense and dropout layer btwn the RNN and TimeDistibuted Dense\n",
    "    # layer improves the accuracy\n",
    "    model = Sequential()\n",
    "    model.add(Embedding(\n",
    "        english_vocab_size, \n",
    "        embedding_dim, \n",
    "        input_length=input_shape[1]))\n",
    "    model.add(LSTM(rnn_dim, return_sequences=True))\n",
    "    model.add(Dense(dense_dim))\n",
    "    model.add(Dropout(dropout))\n",
    "    model.add(TimeDistributed(Dense(units=french_vocab_size)))\n",
    "    model.add(Activation('softmax'))\n",
    "    model.compile(\n",
    "        loss=sparse_categorical_crossentropy,\n",
    "        optimizer=Adam(learning_rate),\n",
    "        metrics=['accuracy'])\n",
    "    return model\n",
    "\n",
    "# run assertion tests\n",
    "tests.test_embed_model(embed_model)\n",
    "\n",
    "# Reshape the input\n",
    "tmp_x = pad(preproc_english_sentences, preproc_french_sentences.shape[1])\n",
    "tmp_x = tmp_x.reshape((-1, preproc_french_sentences.shape[-2]))\n",
    "\n",
    "# Train the neural network\n",
    "embed_rnn_model = embed_model(\n",
    "    tmp_x.shape,\n",
    "    preproc_french_sentences.shape[1],\n",
    "    len(english_tokenizer.word_index),\n",
    "    len(french_tokenizer.word_index))\n",
    "embed_rnn_model.fit(tmp_x, \n",
    "    preproc_french_sentences, \n",
    "    batch_size=batch_size, \n",
    "    epochs=epochs, \n",
    "    validation_split=val_split)\n",
    "\n",
    "# Print prediction(s)\n",
    "print(logits_to_text(embed_rnn_model.predict(tmp_x[:1])[0], french_tokenizer))"
   ]
  },
  {
   "cell_type": "markdown",
   "metadata": {},
   "source": [
    "### Model 3: Bidirectional RNNs (IMPLEMENTATION)\n",
    "![RNN](images/bidirectional.png)\n",
    "One restriction of a RNN is that it can't see the future input, only the past.  This is where bidirectional recurrent neural networks come in.  They are able to see the future data."
   ]
  },
  {
   "cell_type": "code",
   "execution_count": 12,
   "metadata": {},
   "outputs": [
    {
     "name": "stdout",
     "output_type": "stream",
     "text": [
      "Train on 110288 samples, validate on 27573 samples\n",
      "Epoch 1/10\n",
      "110288/110288 [==============================] - 27s - loss: 2.1450 - acc: 0.5302 - val_loss: nan - val_acc: 0.6173\n",
      "Epoch 2/10\n",
      "110288/110288 [==============================] - 27s - loss: 1.3762 - acc: 0.6197 - val_loss: nan - val_acc: 0.6481\n",
      "Epoch 3/10\n",
      "110288/110288 [==============================] - 27s - loss: 1.2293 - acc: 0.6460 - val_loss: nan - val_acc: 0.6662\n",
      "Epoch 4/10\n",
      "110288/110288 [==============================] - 27s - loss: 1.1494 - acc: 0.6620 - val_loss: nan - val_acc: 0.6795\n",
      "Epoch 5/10\n",
      "110288/110288 [==============================] - 27s - loss: 1.0845 - acc: 0.6752 - val_loss: nan - val_acc: 0.6889\n",
      "Epoch 6/10\n",
      "110288/110288 [==============================] - 27s - loss: 1.0397 - acc: 0.6816 - val_loss: nan - val_acc: 0.6968\n",
      "Epoch 7/10\n",
      "110288/110288 [==============================] - 27s - loss: 0.9996 - acc: 0.6887 - val_loss: nan - val_acc: 0.6975\n",
      "Epoch 8/10\n",
      "110288/110288 [==============================] - 27s - loss: 0.9707 - acc: 0.6934 - val_loss: nan - val_acc: 0.7052\n",
      "Epoch 9/10\n",
      "110288/110288 [==============================] - 27s - loss: 0.9456 - acc: 0.6975 - val_loss: nan - val_acc: 0.7082\n",
      "Epoch 10/10\n",
      "110288/110288 [==============================] - 27s - loss: 0.9247 - acc: 0.7016 - val_loss: nan - val_acc: 0.7080\n",
      "new jersey est parfois calme en l' de il est il en en <PAD> <PAD> <PAD> <PAD> <PAD> <PAD> <PAD> <PAD>\n"
     ]
    }
   ],
   "source": [
    "from keras.layers import Bidirectional\n",
    "\n",
    "def bd_model(input_shape, output_sequence_length, english_vocab_size, french_vocab_size):\n",
    "    \"\"\"\n",
    "    Build and train a bidirectional RNN model on x and y\n",
    "    :param input_shape: Tuple of input shape\n",
    "    :param output_sequence_length: Length of output sequence\n",
    "    :param english_vocab_size: Number of unique English words in the dataset\n",
    "    :param french_vocab_size: Number of unique French words in the dataset\n",
    "    :return: Keras model built, but not trained\n",
    "    \"\"\"\n",
    "    # Build a simple RNN that birectional (RNN flows both ways).  Take in\n",
    "    # the input string in the source language and creates an logits of the\n",
    "    # output string in the destination language\n",
    "    # Adding a dense and dropout layer btwn the RNN and TimeDistibuted Dense\n",
    "    # layer improves the accuracy\n",
    "    model = Sequential()\n",
    "    model.add(Bidirectional(LSTM(\n",
    "        rnn_dim,return_sequences=True),\n",
    "        input_shape=input_shape[1:]))\n",
    "    model.add(Dense(dense_dim))\n",
    "    model.add(Dropout(dropout))\n",
    "    model.add(TimeDistributed(Dense(french_vocab_size)))\n",
    "    model.add(Activation('softmax'))\n",
    "    model.compile(loss=sparse_categorical_crossentropy,\n",
    "        optimizer=Adam(learning_rate),\n",
    "        metrics=['accuracy'])\n",
    "    return model\n",
    "\n",
    "# run assertion tests\n",
    "tests.test_bd_model(bd_model)\n",
    "\n",
    "# Train and Print prediction(s)\n",
    "# Reshaping the input to work with a basic RNN\n",
    "tmp_x = pad(preproc_english_sentences, preproc_french_sentences.shape[1])\n",
    "tmp_x = tmp_x.reshape((-1, preproc_french_sentences.shape[-2], 1))\n",
    "\n",
    "# Train the neural network\n",
    "bd_rnn_model = bd_model(\n",
    "    tmp_x.shape,\n",
    "    preproc_french_sentences.shape[1],\n",
    "    len(english_tokenizer.word_index),\n",
    "    len(french_tokenizer.word_index))\n",
    "bd_rnn_model.fit(tmp_x, \n",
    "    preproc_french_sentences, \n",
    "    batch_size=batch_size, \n",
    "    epochs=epochs, \n",
    "    validation_split=val_split)\n",
    "\n",
    "# Print prediction(s)\n",
    "print(logits_to_text(bd_rnn_model.predict(tmp_x[:1])[0], french_tokenizer))"
   ]
  },
  {
   "cell_type": "markdown",
   "metadata": {},
   "source": [
    "### Model 4: Encoder-Decoder (OPTIONAL)\n",
    "Time to look at encoder-decoder models.  This model is made up of an encoder and decoder. The encoder creates a matrix representation of the sentence.  The decoder takes this matrix as input and predicts the translation as output.\n",
    "\n",
    "Create an encoder-decoder model in the cell below."
   ]
  },
  {
   "cell_type": "code",
   "execution_count": 13,
   "metadata": {},
   "outputs": [
    {
     "name": "stdout",
     "output_type": "stream",
     "text": [
      "Train on 110288 samples, validate on 27573 samples\n",
      "Epoch 1/10\n",
      "110288/110288 [==============================] - 27s - loss: 2.7982 - acc: 0.4547 - val_loss: nan - val_acc: 0.5120\n",
      "Epoch 2/10\n",
      "110288/110288 [==============================] - 26s - loss: 2.1265 - acc: 0.5239 - val_loss: nan - val_acc: 0.5265\n",
      "Epoch 3/10\n",
      "110288/110288 [==============================] - 26s - loss: 1.8110 - acc: 0.5543 - val_loss: nan - val_acc: 0.5694\n",
      "Epoch 4/10\n",
      "110288/110288 [==============================] - 26s - loss: 1.5894 - acc: 0.5769 - val_loss: nan - val_acc: 0.5801\n",
      "Epoch 5/10\n",
      "110288/110288 [==============================] - 26s - loss: 1.4758 - acc: 0.5966 - val_loss: nan - val_acc: 0.6055\n",
      "Epoch 6/10\n",
      "110288/110288 [==============================] - 26s - loss: 1.3833 - acc: 0.6148 - val_loss: nan - val_acc: 0.6134\n",
      "Epoch 7/10\n",
      "110288/110288 [==============================] - 26s - loss: 1.3336 - acc: 0.6239 - val_loss: nan - val_acc: 0.6327\n",
      "Epoch 8/10\n",
      "110288/110288 [==============================] - 26s - loss: 1.2931 - acc: 0.6320 - val_loss: nan - val_acc: 0.6380\n",
      "Epoch 9/10\n",
      "110288/110288 [==============================] - 26s - loss: 1.2597 - acc: 0.6386 - val_loss: nan - val_acc: 0.6416\n",
      "Epoch 10/10\n",
      "110288/110288 [==============================] - 26s - loss: 1.2327 - acc: 0.6441 - val_loss: nan - val_acc: 0.6497\n",
      "new jersey est jamais agréable en l' et il est est en en <PAD> <PAD> <PAD> <PAD> <PAD> <PAD> <PAD> <PAD>\n"
     ]
    }
   ],
   "source": [
    "from keras.layers import RepeatVector \n",
    "\n",
    "def encdec_model(input_shape, output_sequence_length, english_vocab_size, french_vocab_size):\n",
    "    \"\"\"\n",
    "    Build and train an encoder-decoder model on x and y\n",
    "    :param input_shape: Tuple of input shape\n",
    "    :param output_sequence_length: Length of output sequence\n",
    "    :param english_vocab_size: Number of unique English words in the dataset\n",
    "    :param french_vocab_size: Number of unique French words in the dataset\n",
    "    :return: Keras model built, but not trained\n",
    "    \"\"\"\n",
    "    # Build a Encoder-Decoder networking using RNNs\n",
    "    model = Sequential()\n",
    "    \n",
    "    # Encoder portion\n",
    "    model.add(LSTM(rnn_dim, input_shape=input_shape[1:]))\n",
    "    model.add(RepeatVector(output_sequence_length))\n",
    "    \n",
    "    # Decoder portion\n",
    "    model.add(LSTM(rnn_dim, return_sequences=True))  \n",
    "    model.add(TimeDistributed(Dense(french_vocab_size)))\n",
    "    \n",
    "    # Activation and compilation\n",
    "    model.add(Activation('softmax'))\n",
    "    model.compile(loss=sparse_categorical_crossentropy,\n",
    "        optimizer=Adam(learning_rate),\n",
    "        metrics=['accuracy'])\n",
    "    \n",
    "    return model\n",
    "\n",
    "# run assertion tests\n",
    "tests.test_encdec_model(encdec_model)\n",
    "\n",
    "# Reshaping the input to work with a basic RNN\n",
    "tmp_x = pad(preproc_english_sentences, preproc_french_sentences.shape[1])\n",
    "tmp_x = tmp_x.reshape((-1, preproc_french_sentences.shape[-2], 1))\n",
    "\n",
    "# Train the neural network\n",
    "encdec_rnn_model = encdec_model(\n",
    "    tmp_x.shape,\n",
    "    preproc_french_sentences.shape[1],\n",
    "    len(english_tokenizer.word_index),\n",
    "    len(french_tokenizer.word_index))\n",
    "encdec_rnn_model.fit(tmp_x, \n",
    "    preproc_french_sentences, \n",
    "    batch_size=batch_size, epochs=epochs, \n",
    "    validation_split=val_split)\n",
    "\n",
    "# Print prediction(s)\n",
    "print(logits_to_text(encdec_rnn_model.predict(tmp_x[:1])[0], french_tokenizer))"
   ]
  },
  {
   "cell_type": "markdown",
   "metadata": {},
   "source": [
    "### Model 5: Custom (IMPLEMENTATION)\n",
    "Use everything you learned from the previous models to create a model that incorporates embedding and a bidirectional rnn into one model."
   ]
  },
  {
   "cell_type": "code",
   "execution_count": 14,
   "metadata": {},
   "outputs": [],
   "source": [
    "from keras.layers import RepeatVector, Bidirectional\n",
    "from keras.layers.embeddings import Embedding\n",
    "from keras.layers import GRU, Input, Dense, TimeDistributed, Dropout, RepeatVector, LSTM\n",
    "from keras.models import Model, Sequential\n",
    "from keras.layers import Activation\n",
    "from keras.optimizers import Adam\n",
    "from keras.losses import sparse_categorical_crossentropy"
   ]
  },
  {
   "cell_type": "code",
   "execution_count": 15,
   "metadata": {},
   "outputs": [
    {
     "name": "stdout",
     "output_type": "stream",
     "text": [
      "Final Model Loaded\n"
     ]
    }
   ],
   "source": [
    "def model_final(input_shape, output_sequence_length, english_vocab_size, french_vocab_size):\n",
    "    \"\"\"\n",
    "    Build and train a model that incorporates embedding, encoder-decoder, and bidirectional RNN on x and y\n",
    "    :param input_shape: Tuple of input shape\n",
    "    :param output_sequence_length: Length of output sequence\n",
    "    :param english_vocab_size: Number of unique English words in the dataset\n",
    "    :param french_vocab_size: Number of unique French words in the dataset\n",
    "    :return: Keras model built, but not trained\n",
    "    \"\"\"\n",
    "    # Use KERAS sequential-model approach to build an RNN network that\n",
    "    # has an encoder-decoder, embedding, and is bidirectional.  From trial\n",
    "    # and error, adding dense layers reduces accuracy in this model.\n",
    "    model = Sequential()\n",
    "    \n",
    "    # Encoder portion\n",
    "    model.add(Embedding(english_vocab_size, embedding_dim, input_length=input_shape[1]))\n",
    "    model.add(Bidirectional(LSTM(rnn_dim, return_sequences=False)))\n",
    "    model.add(Dropout(dropout))\n",
    "    model.add(RepeatVector(output_sequence_length))\n",
    "    \n",
    "    # Decoder portion\n",
    "    model.add(Bidirectional(LSTM(rnn_dim, return_sequences=True)))\n",
    "    model.add(Dropout(dropout))\n",
    "    model.add(TimeDistributed(Dense(french_vocab_size)))\n",
    "    model.add(Activation('softmax')) \n",
    "    \n",
    "    # Compilation\n",
    "    model.compile(loss=sparse_categorical_crossentropy,\n",
    "        optimizer=Adam(learning_rate),\n",
    "        metrics=['accuracy'])\n",
    "\n",
    "    return model\n",
    "\n",
    "# run assertion tests\n",
    "tests.test_model_final(model_final)\n",
    "\n",
    "print('Final Model Loaded')"
   ]
  },
  {
   "cell_type": "markdown",
   "metadata": {},
   "source": [
    "## Prediction (IMPLEMENTATION)"
   ]
  },
  {
   "cell_type": "code",
   "execution_count": 17,
   "metadata": {},
   "outputs": [
    {
     "name": "stdout",
     "output_type": "stream",
     "text": [
      "Train on 110288 samples, validate on 27573 samples\n",
      "Epoch 1/20\n",
      "110288/110288 [==============================] - 63s - loss: 2.4434 - acc: 0.4845 - val_loss: nan - val_acc: 0.5608\n",
      "Epoch 2/20\n",
      "110288/110288 [==============================] - 62s - loss: 1.4920 - acc: 0.6042 - val_loss: nan - val_acc: 0.6957\n",
      "Epoch 3/20\n",
      "110288/110288 [==============================] - 62s - loss: 1.0871 - acc: 0.6967 - val_loss: nan - val_acc: 0.7596\n",
      "Epoch 4/20\n",
      "110288/110288 [==============================] - 62s - loss: 0.8419 - acc: 0.7545 - val_loss: nan - val_acc: 0.8034\n",
      "Epoch 5/20\n",
      "110288/110288 [==============================] - 62s - loss: 0.6494 - acc: 0.8051 - val_loss: nan - val_acc: 0.8669\n",
      "Epoch 6/20\n",
      "110288/110288 [==============================] - 62s - loss: 0.4948 - acc: 0.8531 - val_loss: nan - val_acc: 0.9084\n",
      "Epoch 7/20\n",
      "110288/110288 [==============================] - 62s - loss: 0.3823 - acc: 0.8889 - val_loss: nan - val_acc: 0.9308\n",
      "Epoch 8/20\n",
      "110288/110288 [==============================] - 62s - loss: 0.3101 - acc: 0.9114 - val_loss: nan - val_acc: 0.9399\n",
      "Epoch 9/20\n",
      "110288/110288 [==============================] - 62s - loss: 0.2611 - acc: 0.9255 - val_loss: nan - val_acc: 0.9517\n",
      "Epoch 10/20\n",
      "110288/110288 [==============================] - 62s - loss: 0.2247 - acc: 0.9358 - val_loss: nan - val_acc: 0.9578\n",
      "Epoch 11/20\n",
      "110288/110288 [==============================] - 62s - loss: 0.1968 - acc: 0.9442 - val_loss: nan - val_acc: 0.9637\n",
      "Epoch 12/20\n",
      "110288/110288 [==============================] - 62s - loss: 0.1748 - acc: 0.9503 - val_loss: nan - val_acc: 0.9674\n",
      "Epoch 13/20\n",
      "110288/110288 [==============================] - 62s - loss: 0.1638 - acc: 0.9534 - val_loss: nan - val_acc: 0.9690\n",
      "Epoch 14/20\n",
      "110288/110288 [==============================] - 62s - loss: 0.1430 - acc: 0.9593 - val_loss: nan - val_acc: 0.9715\n",
      "Epoch 15/20\n",
      "110288/110288 [==============================] - 62s - loss: 0.1287 - acc: 0.9633 - val_loss: nan - val_acc: 0.9740\n",
      "Epoch 16/20\n",
      "110288/110288 [==============================] - 62s - loss: 0.1196 - acc: 0.9657 - val_loss: nan - val_acc: 0.9739\n",
      "Epoch 17/20\n",
      "110288/110288 [==============================] - 62s - loss: 0.1130 - acc: 0.9676 - val_loss: nan - val_acc: 0.9757\n",
      "Epoch 18/20\n",
      "110288/110288 [==============================] - 62s - loss: 0.1039 - acc: 0.9701 - val_loss: nan - val_acc: 0.9770\n",
      "Epoch 19/20\n",
      "110288/110288 [==============================] - 62s - loss: 0.0957 - acc: 0.9724 - val_loss: nan - val_acc: 0.9787\n",
      "Epoch 20/20\n",
      "110288/110288 [==============================] - 62s - loss: 0.0880 - acc: 0.9745 - val_loss: nan - val_acc: 0.9802\n",
      "Sample 1:\n",
      "il a vu un vieux camion jaune <PAD> <PAD> <PAD> <PAD> <PAD> <PAD> <PAD> <PAD> <PAD> <PAD> <PAD> <PAD> <PAD> <PAD>\n",
      "Il a vu un vieux camion jaune\n",
      "Sample 2:\n",
      "new jersey est parfois calme pendant l' automne et il est neigeux en avril <PAD> <PAD> <PAD> <PAD> <PAD> <PAD> <PAD>\n",
      "new jersey est parfois calme pendant l' automne et il est neigeux en avril <PAD> <PAD> <PAD> <PAD> <PAD> <PAD> <PAD>\n"
     ]
    }
   ],
   "source": [
    "import numpy as np\n",
    "from keras.preprocessing.sequence import pad_sequences\n",
    "from keras.callbacks import ModelCheckpoint\n",
    "\n",
    "def final_predictions(x, y, x_tk, y_tk):\n",
    "    \"\"\"\n",
    "    Gets predictions using the final model\n",
    "    :param x: Preprocessed English data\n",
    "    :param y: Preprocessed French data\n",
    "    :param x_tk: English tokenizer\n",
    "    :param y_tk: French tokenizer\n",
    "    \"\"\"\n",
    "    # Train neural network using model_final\n",
    "    model = model_final(\n",
    "        x.shape,\n",
    "        y.shape[1],\n",
    "        len(x_tk.word_index),\n",
    "        len(y_tk.word_index))\n",
    "\n",
    "    model.fit(\n",
    "        x, \n",
    "        y, \n",
    "        batch_size=batch_size, \n",
    "        epochs=20, \n",
    "        validation_split=val_split)\n",
    "    \n",
    "    ## DON'T EDIT ANYTHING BELOW THIS LINE\n",
    "    y_id_to_word = {value: key for key, value in y_tk.word_index.items()}\n",
    "    y_id_to_word[0] = '<PAD>'\n",
    "\n",
    "    sentence = 'he saw a old yellow truck'\n",
    "    sentence = [x_tk.word_index[word] for word in sentence.split()]\n",
    "    sentence = pad_sequences([sentence], maxlen=x.shape[-1], padding='post')\n",
    "    sentences = np.array([sentence[0], x[0]])\n",
    "    predictions = model.predict(sentences, len(sentences))\n",
    "\n",
    "    print('Sample 1:')\n",
    "    print(' '.join([y_id_to_word[np.argmax(x)] for x in predictions[0]]))\n",
    "    print('Il a vu un vieux camion jaune')\n",
    "    print('Sample 2:')\n",
    "    print(' '.join([y_id_to_word[np.argmax(x)] for x in predictions[1]]))\n",
    "    #print(' '.join([y_id_to_word[np.argmax(x)] for x in y[0]]))  # <- student edit, changed argmmax to int\n",
    "    print(' '.join([y_id_to_word[int(x)] for x in y[0]]))\n",
    "\n",
    "final_predictions(preproc_english_sentences, preproc_french_sentences, english_tokenizer, french_tokenizer)"
   ]
  },
  {
   "cell_type": "markdown",
   "metadata": {},
   "source": [
    "## Submission\n",
    "When you are ready to submit your project, do the following steps:\n",
    "1. Ensure you pass all points on the [rubric](https://review.udacity.com/#!/rubrics/1004/view).\n",
    "2. Submit the following in a zip file.\n",
    "  - `helper.py`\n",
    "  - `machine_translation.ipynb`\n",
    "  - `machine_translation.html`\n",
    "    - You can export the notebook by navigating to **File -> Download as -> HTML (.html)**."
   ]
  }
 ],
 "metadata": {
  "kernelspec": {
   "display_name": "Python [default]",
   "language": "python",
   "name": "python3"
  },
  "language_info": {
   "codemirror_mode": {
    "name": "ipython",
    "version": 3
   },
   "file_extension": ".py",
   "mimetype": "text/x-python",
   "name": "python",
   "nbconvert_exporter": "python",
   "pygments_lexer": "ipython3",
   "version": "3.6.2"
  }
 },
 "nbformat": 4,
 "nbformat_minor": 1
}
